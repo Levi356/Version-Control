{
 "cells": [
  {
   "cell_type": "code",
   "execution_count": 2,
   "id": "f3f648db-1711-4072-9ef5-97db99fc7d4b",
   "metadata": {},
   "outputs": [
    {
     "name": "stdout",
     "output_type": "stream",
     "text": [
      "Aravind\n"
     ]
    }
   ],
   "source": [
    "print(\"Aravind\")\n"
   ]
  },
  {
   "cell_type": "code",
   "execution_count": 3,
   "id": "a3c01a27-617c-4537-8f84-30f902e791a5",
   "metadata": {},
   "outputs": [
    {
     "name": "stdout",
     "output_type": "stream",
     "text": [
      "Sriram\n"
     ]
    }
   ],
   "source": [
    "print(\"Sriram\")\n"
   ]
  },
  {
   "cell_type": "code",
   "execution_count": 4,
   "id": "c96f7fec-6041-4bb4-b121-91fa10283654",
   "metadata": {},
   "outputs": [
    {
     "name": "stdout",
     "output_type": "stream",
     "text": [
      "sundaram\n"
     ]
    }
   ],
   "source": [
    "print(\"sundaram\")\n"
   ]
  },
  {
   "cell_type": "code",
   "execution_count": null,
   "id": "0acf630a-88fe-4b25-9f51-bdd70694b6a1",
   "metadata": {},
   "outputs": [],
   "source": []
  }
 ],
 "metadata": {
  "kernelspec": {
   "display_name": "Python 3 (ipykernel)",
   "language": "python",
   "name": "python3"
  },
  "language_info": {
   "codemirror_mode": {
    "name": "ipython",
    "version": 3
   },
   "file_extension": ".py",
   "mimetype": "text/x-python",
   "name": "python",
   "nbconvert_exporter": "python",
   "pygments_lexer": "ipython3",
   "version": "3.13.1"
  }
 },
 "nbformat": 4,
 "nbformat_minor": 5
}
